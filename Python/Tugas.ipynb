{
 "cells": [
  {
   "cell_type": "markdown",
   "metadata": {},
   "source": [
    "# Question 1"
   ]
  },
  {
   "cell_type": "markdown",
   "metadata": {},
   "source": []
  },
  {
   "cell_type": "code",
   "execution_count": 5,
   "metadata": {},
   "outputs": [],
   "source": [
    "name = 'Hafiz Minhajuel'"
   ]
  },
  {
   "cell_type": "code",
   "execution_count": 13,
   "metadata": {},
   "outputs": [
    {
     "name": "stdout",
     "output_type": "stream",
     "text": [
      "Hafiz Minhajuel\n",
      "The length of your first name: 5\n"
     ]
    }
   ],
   "source": [
    "name = input('Enter your name: ')\n",
    "name_list = name.split()\n",
    "result = f'The length of your first name: {len(name_list[0])}'\n",
    "print(name)\n",
    "print(result)"
   ]
  },
  {
   "cell_type": "markdown",
   "metadata": {},
   "source": [
    "# Question 2"
   ]
  },
  {
   "cell_type": "code",
   "execution_count": 21,
   "metadata": {},
   "outputs": [
    {
     "name": "stdout",
     "output_type": "stream",
     "text": [
      "Shafanda Nabil Sembodo\n",
      "SHAFANDA NABIL SEMBODO\n",
      "HFNANBLSMOO\n"
     ]
    }
   ],
   "source": [
    "name2 = input ('Enter your name: ')\n",
    "print(name2)\n",
    "name2 = name2.upper()\n",
    "print(name2)\n",
    "name2 = name2[1::2]\n",
    "print(name2)"
   ]
  },
  {
   "cell_type": "markdown",
   "metadata": {},
   "source": [
    "# Question 3"
   ]
  },
  {
   "cell_type": "code",
   "execution_count": 29,
   "metadata": {},
   "outputs": [
    {
     "name": "stdout",
     "output_type": "stream",
     "text": [
      "total: 22\n",
      "reverse: 7654\n"
     ]
    }
   ],
   "source": [
    "num = input(\"Enter your digit number: \")\n",
    "n1 = int(num[0]) \n",
    "n2 = int(num[1]) \n",
    "n3 = int(num[2]) \n",
    "n4 = int(num[3]) \n",
    "\n",
    "total = n1+n2+n3+n4\n",
    "reverse = num[::-1]\n",
    "print(f'total:',total)\n",
    "print(f'reverse:',reverse)"
   ]
  },
  {
   "cell_type": "markdown",
   "metadata": {},
   "source": [
    "# Question 4"
   ]
  },
  {
   "cell_type": "code",
   "execution_count": 43,
   "metadata": {},
   "outputs": [
    {
     "name": "stdout",
     "output_type": "stream",
     "text": [
      "2,5\n",
      "3,7\n",
      "['2', '5']\n",
      "['3', '7']\n",
      "2\n",
      "2.0\n",
      "2.236\n"
     ]
    }
   ],
   "source": [
    "co_A = input(\"Enter the coordinant of point A: \")\n",
    "co_B = input(\"Enter the coordinant of point B: \")\n",
    "\n",
    "print(co_A)\n",
    "print(co_B)\n",
    "\n",
    "co_A = co_A.split(',')\n",
    "co_B = co_B.split(',')\n",
    "\n",
    "print(co_A)\n",
    "print(co_B)\n",
    "\n",
    "x1 = int(co_A[0])\n",
    "y1 = int(co_A[1])\n",
    "x2 = int(co_B[0])\n",
    "y2 = int(co_B[1])\n",
    "\n",
    "print(x1)\n",
    "\n",
    "slope = (y2-y1)/(x2-x1)\n",
    "distance = ((x2-x1)**2 + (y2-y1)**2)**0.5\n",
    "\n",
    "print(slope)\n",
    "print(round(distance,3))"
   ]
  },
  {
   "cell_type": "code",
   "execution_count": 44,
   "metadata": {},
   "outputs": [
    {
     "data": {
      "text/plain": [
       "2.5245"
      ]
     },
     "execution_count": 44,
     "metadata": {},
     "output_type": "execute_result"
    }
   ],
   "source": [
    "round(2.5245242, 4)"
   ]
  },
  {
   "cell_type": "markdown",
   "metadata": {},
   "source": [
    "# Question 5"
   ]
  },
  {
   "cell_type": "code",
   "execution_count": 53,
   "metadata": {},
   "outputs": [
    {
     "name": "stdout",
     "output_type": "stream",
     "text": [
      "['purwa', 'dhika']\n"
     ]
    },
    {
     "data": {
      "text/plain": [
       "''"
      ]
     },
     "execution_count": 53,
     "metadata": {},
     "output_type": "execute_result"
    }
   ],
   "source": [
    "tes = input('Enter the sample string: ')\n",
    "print(tes.split())\n",
    "kata = tes[0:3]\n"
   ]
  },
  {
   "cell_type": "code",
   "execution_count": 56,
   "metadata": {},
   "outputs": [
    {
     "name": "stdout",
     "output_type": "stream",
     "text": [
      "makan malam\n"
     ]
    }
   ],
   "source": [
    "kata1 = 'makan'\n",
    "kata2 = 'malam'\n",
    "print(kata1 + ' ' + kata2)"
   ]
  },
  {
   "cell_type": "code",
   "execution_count": 73,
   "metadata": {},
   "outputs": [
    {
     "name": "stdout",
     "output_type": "stream",
     "text": [
      "['purwa', 'dhika']\n",
      "dhiwa purka\n"
     ]
    }
   ],
   "source": [
    "tes = input('Enter the sample string: ')\n",
    "teskata = tes.split()\n",
    "print(teskata)\n",
    "\n",
    "kata1 = teskata[0]\n",
    "kata2 = teskata[1]\n",
    "pot1 = kata1[0:3] + kata2[3:]\n",
    "pot2 = kata2[0:3] + kata1[3:]\n",
    "print(pot2 + ' ' + pot1)"
   ]
  },
  {
   "cell_type": "markdown",
   "metadata": {},
   "source": [
    "# Question 6"
   ]
  },
  {
   "cell_type": "code",
   "execution_count": 78,
   "metadata": {},
   "outputs": [
    {
     "name": "stdout",
     "output_type": "stream",
     "text": [
      "jPKdaA\n"
     ]
    }
   ],
   "source": [
    "kota1 = input('Enter the first text: ') #joGjaKARTa\n",
    "kota2 = input('Enter the first text: ') #PurWadhikA\n",
    "\n",
    "first_word = kota1[0] + kota2[0]\n",
    "middle_word = kota1[int(len(kota1)/2)] + kota2[int(len(kota1)/2)]\n",
    "last_word = kota1[-1] + kota2[-1]\n",
    "kota_gab = first_word + middle_word + last_word\n",
    "print(kota_gab)\n",
    "#output jPKdaA"
   ]
  },
  {
   "cell_type": "markdown",
   "metadata": {},
   "source": [
    "# Question 7"
   ]
  },
  {
   "cell_type": "code",
   "execution_count": 80,
   "metadata": {},
   "outputs": [
    {
     "name": "stdout",
     "output_type": "stream",
     "text": [
      "Output: JC0210JC\n"
     ]
    }
   ],
   "source": [
    "text1 = input('Masukkan text: ')\n",
    "text2 = input('Masukkan text: ')\n",
    "\n",
    "mid = len(text1)//2\n",
    "output = f'{text1[:mid]}{text2}{text1[:mid]}'\n",
    "print((f'Output: {output}'))"
   ]
  },
  {
   "cell_type": "code",
   "execution_count": null,
   "metadata": {},
   "outputs": [],
   "source": []
  }
 ],
 "metadata": {
  "kernelspec": {
   "display_name": "Python 3",
   "language": "python",
   "name": "python3"
  },
  "language_info": {
   "codemirror_mode": {
    "name": "ipython",
    "version": 3
   },
   "file_extension": ".py",
   "mimetype": "text/x-python",
   "name": "python",
   "nbconvert_exporter": "python",
   "pygments_lexer": "ipython3",
   "version": "3.11.5"
  }
 },
 "nbformat": 4,
 "nbformat_minor": 2
}
