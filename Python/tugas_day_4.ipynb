{
 "cells": [
  {
   "cell_type": "markdown",
   "metadata": {},
   "source": [
    "## Question #1\n",
    "\n",
    "Python’s built-in min() and max() functions return the smallest and biggest numbers in a list of numbers passed, respectively. In this exercise, you’ll reimplement the behavior of these functions. Write a `getSmallest()` function that has a numbers parameter. The numbers parameter will be a list of integer and floating-point number values. The function returns the smallest value in the list. Your solution is correct if the following assert statements’ conditions are all True:"
   ]
  },
  {
   "cell_type": "code",
   "execution_count": null,
   "metadata": {},
   "outputs": [],
   "source": [
    "assert getSmallest([1, 2, 3]) == 1\n",
    "assert getSmallest([3, 2, 1]) == 1\n",
    "assert getSmallest([28, 25, 42, 2, 28]) == 2\n",
    "assert getSmallest([1]) == 1\n",
    "assert getSmallest([]) == None"
   ]
  },
  {
   "cell_type": "code",
   "execution_count": 2,
   "metadata": {},
   "outputs": [],
   "source": [
    "# answer 1\n",
    "\n",
    "def getSmallest(numbers):\n",
    "    if not numbers:\n",
    "        return None\n",
    "    smallest = numbers [0]\n",
    "    for num in numbers:\n",
    "        if num < smallest:\n",
    "            smallest = num\n",
    "    return smallest\n",
    "\n",
    "assert getSmallest([1, 2, 3]) == 1\n",
    "assert getSmallest([3, 2, 1]) == 1\n",
    "assert getSmallest([28, 25, 42, 2, 28]) == 2\n",
    "assert getSmallest([1]) == 1\n",
    "assert getSmallest([]) == None"
   ]
  },
  {
   "cell_type": "code",
   "execution_count": 3,
   "metadata": {},
   "outputs": [
    {
     "data": {
      "text/plain": [
       "1"
      ]
     },
     "execution_count": 3,
     "metadata": {},
     "output_type": "execute_result"
    }
   ],
   "source": [
    "getSmallest ([1, 2, 3])"
   ]
  },
  {
   "cell_type": "markdown",
   "metadata": {},
   "source": [
    "## Question #2\n",
    "\n",
    "You are given a list `nums`, write a `findIndex()` function to return the index of two items whose sum equals the `target`. Each input has one solution, and you cannot use the same item twice."
   ]
  },
  {
   "cell_type": "code",
   "execution_count": null,
   "metadata": {},
   "outputs": [],
   "source": [
    "# input\n",
    "nums = [2, 7, 11, 15] \n",
    "target = 9\n",
    "findIndex(nums, target)\n",
    "\n",
    "# output\n",
    "(0, 1)"
   ]
  },
  {
   "cell_type": "code",
   "execution_count": 4,
   "metadata": {},
   "outputs": [
    {
     "data": {
      "text/plain": [
       "(0, 1)"
      ]
     },
     "execution_count": 4,
     "metadata": {},
     "output_type": "execute_result"
    }
   ],
   "source": [
    "#answer 2\n",
    "def findIndex (nums, target):\n",
    "    value = []\n",
    "    for x, num in enumerate (nums):\n",
    "        hasil = target - num\n",
    "        if hasil in nums:\n",
    "            value.append(x)\n",
    "    return tuple(value)\n",
    "nums = [2, 7, 11, 15]\n",
    "target = 9\n",
    "findIndex (nums, target)\n"
   ]
  },
  {
   "cell_type": "markdown",
   "metadata": {},
   "source": [
    "## Question #3\n",
    "\n",
    "You are given a tuple `nums`, write a `sortTuple()` function to sort value by second item."
   ]
  },
  {
   "cell_type": "code",
   "execution_count": null,
   "metadata": {},
   "outputs": [],
   "source": [
    "# input\n",
    "nums = (('a', 1), ('b', 3), ('c', 5), ('d', 2))\n",
    "sortTuple(nums)\n",
    "\n",
    "# output\n",
    "(('a', 1), ('d', 2), ('b', 3), ('c', 5))"
   ]
  },
  {
   "cell_type": "code",
   "execution_count": 5,
   "metadata": {},
   "outputs": [
    {
     "name": "stdout",
     "output_type": "stream",
     "text": [
      "[('a', 1), ('d', 2), ('b', 3), ('c', 5)]\n"
     ]
    }
   ],
   "source": [
    "# answer 3\n",
    "def sortTuple (nums):\n",
    "    return sorted(nums, key = lambda x: x[1])\n",
    "nums = (('a', 1), ('b', 3), ('c', 5), ('d', 2))\n",
    "print(sortTuple(nums))"
   ]
  },
  {
   "cell_type": "markdown",
   "metadata": {},
   "source": [
    "## Question #4\n",
    "\n",
    "You are given two lists `l1` and `l2` that represent two positive integers each. Each digit of the numbers is stored in reverse order, and each item represents one digit. Write a `addList()` function to add the two numbers and return the sum as an inverted list."
   ]
  },
  {
   "cell_type": "code",
   "execution_count": null,
   "metadata": {},
   "outputs": [],
   "source": [
    "# input\n",
    "l1 = [2, 4, 3] --> 342\n",
    "l2 = [5, 6, 4] --> 465\n",
    "addList(l1, l2)\n",
    "\n",
    "# output\n",
    "(7, 0, 8)"
   ]
  },
  {
   "cell_type": "code",
   "execution_count": 6,
   "metadata": {},
   "outputs": [
    {
     "data": {
      "text/plain": [
       "(7, 0, 8)"
      ]
     },
     "execution_count": 6,
     "metadata": {},
     "output_type": "execute_result"
    }
   ],
   "source": [
    "# answer 4\n",
    "def addList (l1, l2):\n",
    "    dummy = 0\n",
    "    result = []\n",
    "    x,y = 0,0\n",
    "\n",
    "    while x < len (l1) or y < len(l2) or dummy:\n",
    "        digit = dummy\n",
    "        if x < len(l1):\n",
    "            digit += l1[x]\n",
    "            x += 1\n",
    "        if y < len(l2):\n",
    "            digit += l2[y]\n",
    "            y += 1\n",
    "\n",
    "        result.append(digit % 10)\n",
    "        dummy = digit // 10\n",
    "    return tuple (result)\n",
    "l1 = [2,4,3]\n",
    "l2 = [5,6,4]\n",
    "addList (l1, l2)"
   ]
  },
  {
   "cell_type": "markdown",
   "metadata": {},
   "source": [
    "## Question #5\n",
    "\n",
    "One of the most efficient sorting algorithms is the merge sort algorithm. Merge sort has two phases: the dividing phase and the merge phase. Write a `mergeTwoLists()` function with two parameters `list1` and `list2`. The lists of numbers passed for these parameters are already in sorted order from smallest to largest number. The function returns a single sorted list of all numbers from these two lists.\n",
    "\n",
    "You could write this function in one line of code by using Python’s `sorted()` function: return sorted(list1 + list2). **But this would defeat the purpose of the exercise, so don’t use the sorted() function or sort() method as part of your solution.** Your solution is correct if the following assert statements’ conditions are all True:"
   ]
  },
  {
   "cell_type": "code",
   "execution_count": null,
   "metadata": {},
   "outputs": [],
   "source": [
    "assert mergeTwoLists([1, 3, 6], [5, 7, 8, 9]) == [1, 3, 5, 6, 7, 8, 9]\n",
    "assert mergeTwoLists([4, 5], [1, 2, 3]) == [1, 2, 3, 4, 5]\n",
    "assert mergeTwoLists([2, 2, 2], [2, 2, 2]) == [2, 2, 2, 2, 2, 2]\n",
    "assert mergeTwoLists([], [1, 2, 3]) == [1, 2, 3]"
   ]
  },
  {
   "cell_type": "code",
   "execution_count": 8,
   "metadata": {},
   "outputs": [],
   "source": [
    "# answer 5\n",
    "def mergeTwoLists (list1, list2):\n",
    "    result = []\n",
    "    x,y = 0,0\n",
    "\n",
    "    while x < len(list1) and y < len(list2):\n",
    "        if list1[x] <= list2[y]:\n",
    "            result.append(list1[x])\n",
    "            x += 1\n",
    "        else:\n",
    "            result.append(list2[y])\n",
    "            y += 1\n",
    "    while x < len(list1):\n",
    "            result.append(list1[x])\n",
    "            x += 1\n",
    "    while y < len(list2):\n",
    "            result.append(list2[y])\n",
    "            y += 1\n",
    "    return result\n",
    "\n",
    "assert mergeTwoLists([1, 3, 6], [5, 7, 8, 9]) == [1, 3, 5, 6, 7, 8, 9]\n",
    "assert mergeTwoLists([4, 5], [1, 2, 3]) == [1, 2, 3, 4, 5]\n",
    "assert mergeTwoLists([2, 2, 2], [2, 2, 2]) == [2, 2, 2, 2, 2, 2]\n",
    "assert mergeTwoLists([], [1, 2, 3]) == [1, 2, 3]\n",
    "    "
   ]
  },
  {
   "cell_type": "markdown",
   "metadata": {},
   "source": [
    "## Question #6\n",
    "\n",
    "You are given a non-overlapping list `l1` where `l1[i] = [start_i, end_i]` represents the start and end of the i-th interval and the intervals are sorted in ascending order based on i. You are also given an list `l2 = [start, end]` that represents the start and end of another interval. Write a `insertList()` function to insert `l2` into `l1` so that `l1` are still sorted in ascending order and do not overlap (merge overlapping intervals if necessary)."
   ]
  },
  {
   "cell_type": "code",
   "execution_count": null,
   "metadata": {},
   "outputs": [],
   "source": [
    "# input\n",
    "l1 = [[1, 2], [3, 5], [6, 7], [8, 10], [12, 16]] \n",
    "l2 = [4, 8]\n",
    "insertList(l1, l2)\n",
    "\n",
    "# output\n",
    "[[1, 2], [3, 10], [12, 16]]"
   ]
  },
  {
   "cell_type": "code",
   "execution_count": 13,
   "metadata": {},
   "outputs": [
    {
     "data": {
      "text/plain": [
       "[[1, 2], [3, 10], [12, 16]]"
      ]
     },
     "execution_count": 13,
     "metadata": {},
     "output_type": "execute_result"
    }
   ],
   "source": [
    "# answer 6\n",
    "def insertList (l1, l2):\n",
    "    result = []\n",
    "    i = 0\n",
    "\n",
    "    while i < len(l1) and l1[i][1] < l2[0]:\n",
    "        result.append(l1[i])\n",
    "        i += 1\n",
    "    interval = l2\n",
    "    while i < len(l1) and l1[i][0] <= l2[1]:\n",
    "        interval[0] = min(interval[0], l1[i][0])\n",
    "        interval[1] = max(interval[1], l1[i][1])\n",
    "        i += 1\n",
    "    result.append(interval)\n",
    "    while i < len(l1):\n",
    "        result.append(l1[i])\n",
    "        i += 1\n",
    "    return result\n",
    "\n",
    "l1 = [[1, 2], [3, 5], [6, 7], [8, 10], [12, 16]] \n",
    "l2 = [4, 8]\n",
    "insertList(l1, l2)"
   ]
  },
  {
   "cell_type": "markdown",
   "metadata": {},
   "source": [
    "## Question #7\n",
    "\n",
    "While a password made from a single word like yogyakarta or purwadhika is easy to remember, it isn’t secure. A dictionary attack is when hackers program their computers to repeatedly try logging in with every word in the dictionary as the password. A dictionary attack won’t work if you use randomly generated passwords.\n",
    "\n",
    "Write a `generatePassword()` function that has a `length` parameter. The length parameter is an integer of how many characters the generated password should have. **For security reasons, if length is less than 12, the function forcibly sets it to 12 characters anyway.** The password string returned by the function must have at least one lowercase letter, one uppercase letter, one number, and one special character. The special characters for this exercise are ~!**@#$%^&*()_+**.\n",
    "\n",
    "Your solution should import Python’s `random` module to help randomly generate these passwords. Your solution is correct if the following assert statements’ conditions are all True:"
   ]
  },
  {
   "cell_type": "code",
   "execution_count": null,
   "metadata": {},
   "outputs": [],
   "source": [
    "LOWER_LETTERS = 'abcdefghijklmnopqrstuvwxyz'\n",
    "UPPER_LETTERS = 'ABCDEFGHIJKLMNOPQRSTUVWXYZ'\n",
    "NUMBERS = '1234567890'\n",
    "SPECIAL = '~!@#$%^&*()_+'\n",
    "\n",
    "password = generatePassword(8)\n",
    "hasLowerCase = False\n",
    "hasUpperCase = False\n",
    "hasNumber = False\n",
    "hasSpecial = False\n",
    "\n",
    "for char in password:\n",
    "    if char in LOWER_LETTERS:\n",
    "        hasLowerCase = True\n",
    "    if char in UPPER_LETTERS:\n",
    "\t\t\t\thasUpperCase = True\n",
    "\t\tif char in NUMBERS:\n",
    "        hasNumber = True\n",
    "    if char in SPECIAL:\n",
    "        hasSpecial = True\n",
    "\n",
    "assert hasLowerCase and hasUpperCase and hasNumber and hasSpecial"
   ]
  },
  {
   "cell_type": "code",
   "execution_count": 38,
   "metadata": {},
   "outputs": [],
   "source": [
    "# answer 7\n",
    "import random\n",
    "\n",
    "def generatePassword(length):\n",
    "    if length < 12:\n",
    "        length = 12\n",
    "    LOWER_LETTERS = \"abcdefghijklmnopqrstuvwxyz\"\n",
    "    UPPER_LETTERS = \"ABCDEFGHIJKLMNOPQRSTUVWXYZ\"\n",
    "    NUMBERS = \"1234567890\"\n",
    "    SPECIAL = \"~!@#$%^&*()_+\"\n",
    "    \n",
    "    password = ''\n",
    "\n",
    "    password += random.choice(LOWER_LETTERS)\n",
    "    password += random.choice(UPPER_LETTERS)\n",
    "    password += random.choice(NUMBERS)\n",
    "    password += random.choice(SPECIAL)\n",
    "\n",
    "    for _ in range (length - 4):\n",
    "        password += random.choice (LOWER_LETTERS + UPPER_LETTERS + NUMBERS + SPECIAL)\n",
    "\n",
    "    password_list = list(password)\n",
    "    random.shuffle(password_list)\n",
    "    password = ''.join(password_list)\n",
    "\n",
    "    return password\n",
    "\n",
    "password = generatePassword(8)\n",
    "hasLowerCase = False\n",
    "hasUpperCase = False\n",
    "hasNumber = False\n",
    "hasSpecial = False\n",
    "\n",
    "for char in password:\n",
    "    if char in \"abcdefghijklmnopqrstuvwxyz\":\n",
    "        hasLowerCase = True\n",
    "    if char in \"ABCDEFGHIJKLMNOPQRSTUVWXYZ\":\n",
    "        hasUpperCase = True\n",
    "    if char in \"1234567890\":\n",
    "        hasNumber = True\n",
    "    if char in \"~!@#$%^&*()_+\":\n",
    "        hasSpecial = True\n",
    "\n",
    "assert hasLowerCase and hasUpperCase and hasNumber and hasSpecial\n"
   ]
  },
  {
   "cell_type": "markdown",
   "metadata": {},
   "source": [
    "## Question #8\n",
    "\n",
    "Write a `sumList()` function that has a `num` parameter. The num parameter contains a list of integer numbers. The function must return all the triplets `[nums[i], nums[j], nums[k]]` such that `i != j`, `i != k`, and `j != k`, and `nums[i] + nums[j] + nums[k] == 0`. **Notice that the solution set must not contain duplicate triplets.** Your solution is correct if the following input & output conditions are similar:"
   ]
  },
  {
   "cell_type": "code",
   "execution_count": null,
   "metadata": {},
   "outputs": [],
   "source": [
    "# input\n",
    "num = [-1, 0, 1, -2, -1, 2, -4]\n",
    "sumList(num)\n",
    "\n",
    "# output \n",
    "[-2, 0, 2], [-1, -1, 2], [-1, 0, 1]"
   ]
  },
  {
   "cell_type": "code",
   "execution_count": 14,
   "metadata": {},
   "outputs": [
    {
     "data": {
      "text/plain": [
       "[[-2, 0, 2], [-1, -1, 2], [-1, 0, 1]]"
      ]
     },
     "execution_count": 14,
     "metadata": {},
     "output_type": "execute_result"
    }
   ],
   "source": [
    "# answer 8\n",
    "def sumList(nums):\n",
    "    value = []\n",
    "    nums.sort()\n",
    "\n",
    "    for i in range (len(nums) - 2):\n",
    "        if i > 0 and nums [i] == nums [i - 1]:\n",
    "            continue\n",
    "        left, right = i + 1, len(nums) - 1\n",
    "        while left < right:\n",
    "            total = num[i] + nums[left] + nums [right]\n",
    "            if total == 0:\n",
    "                value.append([nums[i], nums [left], nums[right]])\n",
    "                left += 1\n",
    "                right -= 1\n",
    "                while left < right and nums [left] == nums [left - 1]:\n",
    "                    left += 1\n",
    "                while left < right and nums [right] == nums [right + 1]:\n",
    "                    right -= 1\n",
    "            elif total < 0:\n",
    "                left += 1\n",
    "            else:\n",
    "                right -= 1\n",
    "    return value\n",
    "num = [-1, 0, 1, -2, -1, 2, -4]\n",
    "sumList(num)\n",
    "        "
   ]
  },
  {
   "cell_type": "code",
   "execution_count": null,
   "metadata": {},
   "outputs": [],
   "source": []
  }
 ],
 "metadata": {
  "kernelspec": {
   "display_name": "Python 3",
   "language": "python",
   "name": "python3"
  },
  "language_info": {
   "codemirror_mode": {
    "name": "ipython",
    "version": 3
   },
   "file_extension": ".py",
   "mimetype": "text/x-python",
   "name": "python",
   "nbconvert_exporter": "python",
   "pygments_lexer": "ipython3",
   "version": "3.11.5"
  }
 },
 "nbformat": 4,
 "nbformat_minor": 2
}
