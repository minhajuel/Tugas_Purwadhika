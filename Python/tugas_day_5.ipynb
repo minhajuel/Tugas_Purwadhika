{
 "cells": [
  {
   "cell_type": "markdown",
   "metadata": {},
   "source": [
    "## Question #1\n",
    "\n",
    "Imagine that a vanquished dragon’s loot is represented as a list of strings like `dragonLoot`. Write a function named `addToInventory(inventory, addedItems)`, where the inventory parameter is a dictionary representing the player’s inventory (like in the previous project) and the addedItems parameter is a list like dragonLoot. The `addToInventory()` function should return a dictionary that represents the updated inventory. Note that the addedItems list can contain multiples of the same item."
   ]
  },
  {
   "cell_type": "code",
   "execution_count": null,
   "metadata": {},
   "outputs": [],
   "source": [
    "inventory = {'gold coin': 42, 'rope': 1}\n",
    "dragonLoot = ['gold coin', 'dagger', 'gold coin', 'gold coin', 'ruby']\n",
    "addToInventory(inventory, addedItems)\n",
    "\n",
    "Inventory:\n",
    "45 gold coin\n",
    "1 rope\n",
    "1 ruby\n",
    "1 dagger\n",
    "\n",
    "Total number of items: 48"
   ]
  },
  {
   "cell_type": "code",
   "execution_count": null,
   "metadata": {},
   "outputs": [],
   "source": [
    "# jawaban"
   ]
  },
  {
   "cell_type": "code",
   "execution_count": null,
   "metadata": {},
   "outputs": [
    {
     "name": "stdout",
     "output_type": "stream",
     "text": [
      "o\n",
      ",olleH\n",
      "llo, \n",
      "lo, worl\n"
     ]
    }
   ],
   "source": [
    "print('Hello, world!'[8])\n",
    "print('Hello, world!'[5::-1])\n",
    "print('Hello, world!'[2:7])\n",
    "print('Hello, world!'[3:-2])"
   ]
  },
  {
   "cell_type": "code",
   "execution_count": null,
   "metadata": {},
   "outputs": [
    {
     "name": "stdout",
     "output_type": "stream",
     "text": [
      "HELLO\n",
      "Hello\n",
      "hello\n"
     ]
    }
   ],
   "source": [
    "print('Hello'.upper())\n",
    "print('hELlO'.capitalize())\n",
    "print('Hello'.lower())"
   ]
  },
  {
   "cell_type": "code",
   "execution_count": null,
   "metadata": {},
   "outputs": [
    {
     "name": "stdout",
     "output_type": "stream",
     "text": [
      "Hello\n"
     ]
    }
   ],
   "source": [
    "print('heLLo'.title())"
   ]
  },
  {
   "cell_type": "code",
   "execution_count": null,
   "metadata": {},
   "outputs": [
    {
     "name": "stdout",
     "output_type": "stream",
     "text": [
      "['Re', 'e', 'ber, re', 'e', 'ber, the fifth of Nove', 'ber']\n",
      "There-can-be-only-one\n"
     ]
    }
   ],
   "source": [
    "print('Remember, remember, the fifth of November'.split('m'))\n",
    "print('-'.join('There can be only one'.split()))"
   ]
  },
  {
   "cell_type": "code",
   "execution_count": null,
   "metadata": {},
   "outputs": [
    {
     "name": "stdout",
     "output_type": "stream",
     "text": [
      "['hell', ' w', 'rld']\n"
     ]
    }
   ],
   "source": [
    "print('hello world'.split('o'))"
   ]
  },
  {
   "cell_type": "code",
   "execution_count": null,
   "metadata": {},
   "outputs": [
    {
     "name": "stdout",
     "output_type": "stream",
     "text": [
      "['hello', 'world']\n"
     ]
    }
   ],
   "source": [
    "print('hello world'.split())"
   ]
  },
  {
   "cell_type": "code",
   "execution_count": null,
   "metadata": {},
   "outputs": [
    {
     "data": {
      "text/plain": [
       "['he', '', 'o wor', 'd']"
      ]
     },
     "metadata": {},
     "output_type": "display_data"
    }
   ],
   "source": [
    "'hello world'.split('l')"
   ]
  },
  {
   "cell_type": "code",
   "execution_count": null,
   "metadata": {},
   "outputs": [
    {
     "name": "stdout",
     "output_type": "stream",
     "text": [
      "There-can-be-only-one\n"
     ]
    }
   ],
   "source": [
    "print('-'.join('There can be only one'.split()))"
   ]
  },
  {
   "cell_type": "code",
   "execution_count": null,
   "metadata": {},
   "outputs": [
    {
     "name": "stdout",
     "output_type": "stream",
     "text": [
      "T-h-e-r-e- -c-a-n- -b-e- -o-n-l-y- -o-n-e\n"
     ]
    }
   ],
   "source": [
    "print('-'.join('There can be only one'))"
   ]
  },
  {
   "cell_type": "code",
   "execution_count": null,
   "metadata": {},
   "outputs": [
    {
     "name": "stdout",
     "output_type": "stream",
     "text": [
      "apple banana orange\n"
     ]
    }
   ],
   "source": [
    "my_list = ['apple', 'banana', 'orange']\n",
    "result = ' '.join(my_list)\n",
    "print(result)"
   ]
  },
  {
   "cell_type": "code",
   "execution_count": 2,
   "metadata": {},
   "outputs": [
    {
     "name": "stdout",
     "output_type": "stream",
     "text": [
      "Inventory: \n",
      "45gold coin\n",
      "1rope\n",
      "1dagger\n",
      "1ruby\n",
      "Total number of items: 48\n"
     ]
    }
   ],
   "source": [
    "#jawaban\n",
    "def addToInventory (inventory, addedItems):\n",
    "    for item in addedItems:\n",
    "        inventory[item] = inventory.get(item, 0) + 1\n",
    "    return inventory\n",
    "\n",
    "def displayInventory(inventory):\n",
    "    print('Inventory: ')\n",
    "    total_items = 0\n",
    "    for item, quantity in inventory.items():\n",
    "        print(f'{quantity}{item}')\n",
    "        total_items += quantity\n",
    "    print(f'Total number of items: {total_items}')\n",
    "\n",
    "inventory = {'gold coin': 42, 'rope': 1}\n",
    "dragonLoot = ['gold coin', 'dagger', 'gold coin', 'gold coin', 'ruby']\n",
    "inventory = addToInventory(inventory, dragonLoot)\n",
    "displayInventory(inventory)\n",
    "\n",
    "    \n",
    "    "
   ]
  },
  {
   "cell_type": "markdown",
   "metadata": {},
   "source": [
    "## Question #2\n",
    "\n",
    "Write a function named `repeatingCount(text)`, where the `text` parameter is a string. Return the first non-repeating character and repeating character that appear in the string."
   ]
  },
  {
   "cell_type": "code",
   "execution_count": null,
   "metadata": {},
   "outputs": [],
   "source": [
    "text = \"123PurwadhikaHeroesHeroes\"\n",
    "repeatingCount(text)\n",
    " \n",
    "Non-repeating character: 1\n",
    "Repeating character: r"
   ]
  },
  {
   "cell_type": "code",
   "execution_count": 3,
   "metadata": {},
   "outputs": [
    {
     "name": "stdout",
     "output_type": "stream",
     "text": [
      "Non-repeating character: 1\n",
      "Non-repeating character: r\n"
     ]
    }
   ],
   "source": [
    "# jawaban\n",
    "def repeatingCount(text):\n",
    "    char_count = {}\n",
    "    non_repeating_char = None\n",
    "    repeating_char = None\n",
    "    for char in text:\n",
    "        if char in char_count:\n",
    "            char_count[char] += 1\n",
    "        else:\n",
    "            char_count[char] = 1\n",
    "    for char in text:\n",
    "        if char_count[char] == 1:\n",
    "            non_repeating = char\n",
    "            break\n",
    "    for char in text:\n",
    "        if char_count [char] > 1:\n",
    "            repeating = char\n",
    "            break\n",
    "\n",
    "    return non_repeating, repeating\n",
    "text = \"123PurwadhikaHeroesHeroes\"\n",
    "non_repeating, repeating = repeatingCount(text)\n",
    "print(f\"Non-repeating character: {non_repeating}\")\n",
    "print(f\"Non-repeating character: {repeating}\")"
   ]
  },
  {
   "cell_type": "markdown",
   "metadata": {},
   "source": [
    "## Question #3\n",
    "\n",
    "Given a string `text`, the task is to check if every vowel is present or not. We consider a vowel to be present if it is present in upper case or lower case. i.e. a, e, i, o, u or A, E, I, O, U. Your solution is correct if the following assert statements’ conditions are all True:"
   ]
  },
  {
   "cell_type": "code",
   "execution_count": null,
   "metadata": {},
   "outputs": [],
   "source": [
    "assert check('sEEquOiaL') == True\n",
    "assert check('Squ0iaL') == False\n",
    "assert check('') == False"
   ]
  },
  {
   "cell_type": "code",
   "execution_count": 4,
   "metadata": {},
   "outputs": [],
   "source": [
    "# jawaban\n",
    "def check(text):\n",
    "    vowels = {'a', 'i','u','e','o'}\n",
    "    text = text.lower()\n",
    "\n",
    "    for vowel in vowels:\n",
    "        if vowel not in text:\n",
    "            return False\n",
    "    return True\n",
    "\n",
    "assert check('sEEquOiaL') == True\n",
    "assert check('Squ0iaL') == False\n",
    "assert check('') == False"
   ]
  },
  {
   "cell_type": "markdown",
   "metadata": {},
   "source": [
    "## Question #4\n",
    "\n",
    "Given a string `text` of lower case characters. Write a `checkHeterogram()`function to check whether a the given string is Heterogram or not. A heterogram is a word, phrase, or sentence in which no letter of the alphabet occurs more than once. Your solution is correct if the following assert statements’ conditions are all True:"
   ]
  },
  {
   "cell_type": "code",
   "execution_count": null,
   "metadata": {},
   "outputs": [],
   "source": [
    "assert cekHeterogram('purwadhika jogja') == False\n",
    "assert cekHeterogram('jcds 0210') == True\n",
    "assert cekHeterogram('  ') == True"
   ]
  },
  {
   "cell_type": "code",
   "execution_count": null,
   "metadata": {},
   "outputs": [],
   "source": [
    "# jawaban\n",
    "def cekHeterogram(text):\n",
    "    d = {}\n",
    "    for char in text:\n",
    "        if char.isalpha() != True:\n",
    "            continue\n",
    "        if char in d.keys():\n",
    "            d[char] += 1\n",
    "        else:\n",
    "            d[char] = 1\n",
    "\n",
    "    flag = None\n",
    "    for val in d.values():\n",
    "        if val > 1:\n",
    "            flag = False\n",
    "            break\n",
    "    else: flag = True\n",
    "    return flag\n",
    "\n",
    "assert cekHeterogram('purwadhika jogja') == False\n",
    "assert cekHeterogram('jcds 0210') == True\n",
    "assert cekHeterogram('  ') == True"
   ]
  },
  {
   "cell_type": "markdown",
   "metadata": {},
   "source": [
    "## Question #5\n",
    "\n",
    "In Python, the values 15 and '15' are two different values: you can perform mathematics on the integer 15, but the string '15' is the same as any other two-character text string. You can perform mathematical addition on integer values, but not on strings. And you can concatenate or replicate string values, but not integers. A common programming task is to obtain the string equivalent of a number. **You can use the str() function to do this conversion but in this exercise you’ll recreate this function yourself.** Write a `convertInteger()` function with an integerNum parameter, the function works for all integers from -10000 to 9999. Your solution is correct if the following assert statements’ conditions are all True:"
   ]
  },
  {
   "cell_type": "code",
   "execution_count": null,
   "metadata": {},
   "outputs": [],
   "source": [
    "assert convertInteger(0) == '0'\n",
    "assert convertInteger(150) == '150'\n",
    "assert convertInteger(1935) == '1935'\n",
    "assert convertInteger(-1234) == '-1234'"
   ]
  },
  {
   "cell_type": "code",
   "execution_count": 7,
   "metadata": {},
   "outputs": [],
   "source": [
    "# jawaban\n",
    "def convertInteger(nums):\n",
    "    d = {0:'0', 1:'1', 2:'2', 3:'3', 4:'4', 5:'5', 6:'6', 7:'7', 8:'8', 9:'9'}\n",
    "\n",
    "    if nums == 0:\n",
    "        return '0'\n",
    "    \n",
    "    isNegative = None\n",
    "    if nums > 0:\n",
    "        isNegative = False\n",
    "    else:\n",
    "        nums = -nums\n",
    "        isNegative = True\n",
    "\n",
    "    strNum = ''\n",
    "    while nums > 0:\n",
    "        digit = nums % 10\n",
    "        strNum = d[digit] + strNum\n",
    "        nums //= 10\n",
    "\n",
    "    if isNegative:\n",
    "        return '-' + strNum\n",
    "    else:\n",
    "        return strNum\n",
    "    \n",
    "assert convertInteger(0) == '0'\n",
    "assert convertInteger(150) == '150'\n",
    "assert convertInteger(1935) == '1935'\n",
    "assert convertInteger(-1234) == '-1234'\n"
   ]
  },
  {
   "cell_type": "markdown",
   "metadata": {},
   "source": [
    "## Question #6\n",
    "\n",
    "The mode is the number that appears most frequently in a list of numbers. Together with the median and average, you can get a descriptive summary of a list of numbers. This exercise tests your ability to use a dictionary to keep a count of the numbers in a list to find the most frequent number. Write a `modeValue()` function that has a numbers parameter. This function returns the mode, or most frequently appearing number, of the list of integer and floating-point numbers passed to the function. Your solution is correct if the following assert statements’ conditions are all True:"
   ]
  },
  {
   "cell_type": "code",
   "execution_count": null,
   "metadata": {},
   "outputs": [],
   "source": [
    "assert modeValue([]) == None\n",
    "assert modeValue([1, 2, 3, 4, 4]) == 4\n",
    "assert modeValue([1, 1, 2, 3, 4]) == 1\n",
    "assert modeValue([1.5, 1.4, 2.1, 3.3, 4.9]) == None"
   ]
  },
  {
   "cell_type": "code",
   "execution_count": 11,
   "metadata": {},
   "outputs": [],
   "source": [
    "# jawaban\n",
    "def modeValue (numbers):\n",
    "    if not numbers:\n",
    "        return None\n",
    "    if any(isinstance (num, float) for num in numbers):\n",
    "        return None\n",
    "    countDict = {}\n",
    "    \n",
    "    for num in numbers:\n",
    "        if num in countDict:\n",
    "            countDict[num] += 1\n",
    "        else:\n",
    "            countDict[num] = 1\n",
    "    \n",
    "    maxCount = max(countDict.values())\n",
    "    modes = [key for key, value in countDict.items() if value == maxCount]\n",
    "\n",
    "    return modes[0]\n",
    "\n",
    "assert modeValue([]) == None\n",
    "assert modeValue([1, 2, 3, 4, 4]) == 4\n",
    "assert modeValue([1, 1, 2, 3, 4]) == 1\n",
    "assert modeValue([1.5, 1.4, 2.1, 3.3, 4.9]) == None\n"
   ]
  },
  {
   "cell_type": "markdown",
   "metadata": {},
   "source": [
    "## Question #7\n",
    "\n",
    "Given a string `text` which contains lower alphabetic characters. Write a `checkBalance()` function to remove at most one character from this string in such a way that frequency of each distinct character becomes same in the string. Your solution is correct if the following assert statements’ conditions are all True:"
   ]
  },
  {
   "cell_type": "code",
   "execution_count": null,
   "metadata": {},
   "outputs": [],
   "source": [
    "assert checkBalance('aa') == 'Yes'\n",
    "assert checkBalance('aabbb') == 'Yes'\n",
    "assert checkBalance('aabbbccc') == 'No'\n",
    "assert checkBalance('aabbbcccc') == 'No'"
   ]
  },
  {
   "cell_type": "code",
   "execution_count": 16,
   "metadata": {},
   "outputs": [],
   "source": [
    "#jawaban\n",
    "def checkBalance(text):\n",
    "    qty ={}\n",
    "    for char in text:\n",
    "        qty[char] = qty.get(char, 0) + 1\n",
    "    counts = list(qty.values())\n",
    "    freq = set(counts)\n",
    "    num = len(freq)\n",
    "\n",
    "    if num == 1:\n",
    "        return 'Yes'\n",
    "    elif num == 2:\n",
    "        freq_1, freq_2 = freq\n",
    "        count_1, count_2 = counts.count(freq_1), counts.count(freq_2)\n",
    "\n",
    "        if (count_1 == 1 and freq_1 == 1) or (count_2 == 1 and freq_2 == 1):\n",
    "            return 'Yes'\n",
    "        elif (count_1 == 1 and freq_1 - freq_2 == 1) or (count_2 == 1 and freq_2 - freq_1 == 1):\n",
    "            return 'Yes'\n",
    "        else:\n",
    "            return 'No'\n",
    "    else:\n",
    "        return 'No'\n",
    "        \n",
    "assert checkBalance('aa') == 'Yes'\n",
    "assert checkBalance('aabbb') == 'Yes'\n",
    "assert checkBalance('aabbbccc') == 'No'\n",
    "assert checkBalance('aabbbcccc') == 'No'"
   ]
  },
  {
   "cell_type": "markdown",
   "metadata": {},
   "source": []
  }
 ],
 "metadata": {
  "kernelspec": {
   "display_name": "Python 3",
   "language": "python",
   "name": "python3"
  },
  "language_info": {
   "codemirror_mode": {
    "name": "ipython",
    "version": 3
   },
   "file_extension": ".py",
   "mimetype": "text/x-python",
   "name": "python",
   "nbconvert_exporter": "python",
   "pygments_lexer": "ipython3",
   "version": "3.11.5"
  }
 },
 "nbformat": 4,
 "nbformat_minor": 2
}
