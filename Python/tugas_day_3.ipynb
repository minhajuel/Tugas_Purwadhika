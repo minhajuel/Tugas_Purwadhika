{
 "cells": [
  {
   "cell_type": "markdown",
   "metadata": {},
   "source": [
    "# Question 1"
   ]
  },
  {
   "cell_type": "markdown",
   "metadata": {},
   "source": [
    "Write a factorial() function for calculating the factorial of the input number, and please use the recursion schema. Your solution is correct if the following assert statements’ conditions are all True:"
   ]
  },
  {
   "cell_type": "code",
   "execution_count": null,
   "metadata": {},
   "outputs": [],
   "source": [
    "assert factorial(0) == 1\n",
    "assert factorial(3) == 6\n",
    "assert factorial(10) == 3628800\n",
    "assert factorial(-10) == None"
   ]
  },
  {
   "cell_type": "code",
   "execution_count": 70,
   "metadata": {},
   "outputs": [],
   "source": [
    "# Answer 1\n",
    "\n",
    "def factorial(n):\n",
    "    if n < 0:\n",
    "        return None\n",
    "    elif n == 0:\n",
    "        return 1\n",
    "    else:\n",
    "        return n * factorial (n-1)\n",
    "    \n",
    "assert factorial(0) == 1\n",
    "assert factorial(3) == 6\n",
    "assert factorial(10) == 3628800\n",
    "assert factorial(-10) == None"
   ]
  },
  {
   "cell_type": "code",
   "execution_count": 74,
   "metadata": {},
   "outputs": [
    {
     "data": {
      "text/plain": [
       "3628800"
      ]
     },
     "execution_count": 74,
     "metadata": {},
     "output_type": "execute_result"
    }
   ],
   "source": [
    "factorial(10)"
   ]
  },
  {
   "cell_type": "markdown",
   "metadata": {},
   "source": [
    "# Question 2"
   ]
  },
  {
   "cell_type": "markdown",
   "metadata": {},
   "source": [
    "Websites often use relative timestamps such as 3 days ago or about 3h ago so the user doesn’t need to compare an absolute timestamp to the current time. In this exercise, you write a function that converts a number of seconds into a string with the number of hours, minutes, and seconds.\n",
    "\n",
    "Write a `timeConvert()` function that has a `totalSeconds` parameter. The argument for this parameter will be the number of seconds to be translated into the number of hours, minutes, and seconds. If the amount for the hours, minutes, or seconds is zero, don’t show it: the function should return `10m` rather than '0h 10m 0s'. \n",
    "\n",
    "Your solution is correct if the following assert statements’ conditions are all True:"
   ]
  },
  {
   "cell_type": "code",
   "execution_count": null,
   "metadata": {},
   "outputs": [],
   "source": [
    "assert timeConvert(0) == '0s'\n",
    "assert timeConvert(30) == '30s'\n",
    "assert timeConvert(60) == '1m'\n",
    "assert timeConvert(90) == '1m 30s'\n",
    "assert timeConvert(3600) == '1h'\n",
    "assert timeConvert(3601) == '1h 1s'\n",
    "assert timeConvert(3661) == '1h 1m 1s'\n",
    "assert timeConvert(90042) == '25h 42s'"
   ]
  },
  {
   "cell_type": "code",
   "execution_count": 76,
   "metadata": {},
   "outputs": [],
   "source": [
    "#answer 2\n",
    "def timeConvert(totalSeconds):\n",
    "    if totalSeconds == 0:\n",
    "        return '0s'\n",
    "    hour = 0\n",
    "    while totalSeconds >= 3600:\n",
    "        hour += 1\n",
    "        totalSeconds -= 3600\n",
    "\n",
    "    minute = 0\n",
    "    while totalSeconds >= 60:\n",
    "        minute += 1\n",
    "        totalSeconds -= 60\n",
    "\n",
    "    sec = totalSeconds\n",
    "    out = [] \n",
    "\n",
    "    if hour > 0:\n",
    "        out.append (f'{hour}h')\n",
    "    if minute > 0:\n",
    "        out.append (f'{minute}m')\n",
    "    if sec > 0:\n",
    "        out.append (f'{sec}s')\n",
    "\n",
    "    return ' '.join(out)\n",
    "\n",
    "assert timeConvert(0) == '0s'\n",
    "assert timeConvert(30) == '30s'\n",
    "assert timeConvert(60) == '1m'\n",
    "assert timeConvert(90) == '1m 30s'\n",
    "assert timeConvert(3600) == '1h'\n",
    "assert timeConvert(3601) == '1h 1s'\n",
    "assert timeConvert(3661) == '1h 1m 1s'\n",
    "assert timeConvert(90042) == '25h 42s'"
   ]
  },
  {
   "cell_type": "code",
   "execution_count": 79,
   "metadata": {},
   "outputs": [
    {
     "data": {
      "text/plain": [
       "'1h 1m 1s'"
      ]
     },
     "execution_count": 79,
     "metadata": {},
     "output_type": "execute_result"
    }
   ],
   "source": [
    "timeConvert(3661)"
   ]
  },
  {
   "cell_type": "markdown",
   "metadata": {},
   "source": [
    "# Question 3"
   ]
  },
  {
   "cell_type": "markdown",
   "metadata": {},
   "source": [
    "Area and volume are straightforward calculations. You will write two functions, `area()` and `volume()`for this exercise. Each function is a simple calculation and return statement. However, area and volume are slightly more complicated because they involve multiple parameters. This exercise continues to challenge you to translate mathematical formulas into Python code.\n",
    "\n",
    "The formulas for calculating area and volume area are based on the length (L), width (W), and height (H) of the shape:\n",
    "\n",
    "- area = L × W\n",
    "- volume = L × W × H\n",
    "\n",
    "Your solution is correct if the following assert statements conditions are all True:"
   ]
  },
  {
   "cell_type": "code",
   "execution_count": null,
   "metadata": {},
   "outputs": [],
   "source": [
    "assert area(10, 10) == 100\n",
    "assert area(0, 9999) == 0\n",
    "assert volume(10, 10, 10) == 1000\n",
    "assert volume(5, 8, 10) == 400"
   ]
  },
  {
   "cell_type": "code",
   "execution_count": 123,
   "metadata": {},
   "outputs": [],
   "source": [
    "#answer 3\n",
    "def area (L, W):\n",
    "    return L * W\n",
    "def volume (L,W,H):\n",
    "    return area (L, W) * H\n",
    "\n",
    "assert area(10, 10) == 100\n",
    "assert area(0, 9999) == 0\n",
    "assert volume(10, 10, 10) == 1000\n",
    "assert volume(5, 8, 10) == 400"
   ]
  },
  {
   "cell_type": "code",
   "execution_count": 85,
   "metadata": {},
   "outputs": [
    {
     "data": {
      "text/plain": [
       "400"
      ]
     },
     "execution_count": 85,
     "metadata": {},
     "output_type": "execute_result"
    }
   ],
   "source": [
    "volume(5, 8, 10)"
   ]
  },
  {
   "cell_type": "markdown",
   "metadata": {},
   "source": [
    "# Question 4"
   ]
  },
  {
   "cell_type": "markdown",
   "metadata": {},
   "source": [
    "A chess board has a checker-pattern of white and black tiles. Write a getColor() function that has parameters column and row. The function either returns 'black' or 'white' depending on the color at the specified column and row. Chess boards are 8 x 8 spaces in size, and the columns and rows in this program begin at 0 and end at 7 like in Figure. If the arguments for column or row are outside the 0 to 7 range, the function returns a blank string. Your solution is correct if the following assert statements conditions are all True:"
   ]
  },
  {
   "cell_type": "code",
   "execution_count": null,
   "metadata": {},
   "outputs": [],
   "source": [
    "assert getColor(1, 1) == 'white'\n",
    "assert getColor(2, 1) == 'black'\n",
    "assert getColor(1, 2) == 'black'\n",
    "assert getColor(7, 7) == 'white'\n",
    "assert getColor(0, 8) == ''\n",
    "assert getColor(2, 9) == ''"
   ]
  },
  {
   "cell_type": "code",
   "execution_count": 127,
   "metadata": {},
   "outputs": [],
   "source": [
    "#answer 4\n",
    "def getColor (row, col):\n",
    "    if row < 0 or row > 7 or col < 0 or col > 7:\n",
    "        return ''\n",
    "    elif row % 2 == col%2:\n",
    "        return 'white'\n",
    "    else:\n",
    "        return 'black'\n",
    "    \n",
    "assert getColor(1, 1) == 'white'\n",
    "assert getColor(2, 1) == 'black'\n",
    "assert getColor(1, 2) == 'black'\n",
    "assert getColor(7, 7) == 'white'\n",
    "assert getColor(0, 8) == ''\n",
    "assert getColor(2, 9) == ''"
   ]
  },
  {
   "cell_type": "code",
   "execution_count": 128,
   "metadata": {},
   "outputs": [
    {
     "data": {
      "text/plain": [
       "'black'"
      ]
     },
     "execution_count": 128,
     "metadata": {},
     "output_type": "execute_result"
    }
   ],
   "source": [
    "getColor(2, 1)"
   ]
  },
  {
   "cell_type": "markdown",
   "metadata": {},
   "source": [
    "# Question 5"
   ]
  },
  {
   "cell_type": "markdown",
   "metadata": {},
   "source": [
    "The Caesar cipher is an ancient encryption algorithm used by Julius Caesar. It encrypts letters by shifting them over by a certain number of places in the alphabet. We call the length of shift the key. For example, if the key is 4, then A becomes E, B becomes F, C becomes G, and so on. To decrypt the message, you must shift the encrypted letters in the opposite direction. Write encrypthor() function that has parameter message. This function lets the user encrypt messages according to this algorithm. Your solution is correct if the following output are all similar:"
   ]
  },
  {
   "cell_type": "code",
   "execution_count": null,
   "metadata": {},
   "outputs": [],
   "source": [
    "# input\n",
    "encrpythor('Meet me by the rose bushes tonight.')\n",
    "\n",
    "# output \n",
    "'QIIX QI FC XLI VSWI FYWLIW XSRMKLX.'"
   ]
  },
  {
   "cell_type": "code",
   "execution_count": 101,
   "metadata": {},
   "outputs": [
    {
     "data": {
      "text/plain": [
       "' QIIX QI FC XLI VSWI FYWLIW XSRMKLX.'"
      ]
     },
     "execution_count": 101,
     "metadata": {},
     "output_type": "execute_result"
    }
   ],
   "source": [
    "# Answer 5\n",
    "def encrypthor (text):\n",
    "    SYMBOL = 'ABCDEFGHIJKLMNOPQRSTUVWXYZ'\n",
    "    out = ' '\n",
    "    for word in text.upper():\n",
    "        if word in SYMBOL:\n",
    "            index = SYMBOL.find(word)\n",
    "            index += 4\n",
    "            \n",
    "            if index > len (SYMBOL):\n",
    "                index -= len(SYMBOL)\n",
    "            out += SYMBOL [index]\n",
    "        else:\n",
    "            out +=  word\n",
    "    return out\n",
    "\n",
    "encrypthor('Meet me by the rose bushes tonight.')\n",
    "    "
   ]
  },
  {
   "cell_type": "markdown",
   "metadata": {},
   "source": [
    "# Question 6"
   ]
  },
  {
   "cell_type": "markdown",
   "metadata": {},
   "source": [
    "Earth takes about 365.25 days to revolve around the sun. This slight offset would cause our 365-day calendar to become inaccurate over time. Therefore, leap years have an extra day, February 29th. A leap year occurs on all years divisible by four (e.g., 2016, 2020, 2024, and so on). However, the exception to this rule is that years divisible by one hundred (e.g., 2100, 2200, 2300, and so on) aren’t leap years. And the exception to this exception is that years divisible by four hundred (e.g., 2000, 2400, and so on) are leap years. Write a isLeapYear() function with an integer year parameter. If year is a leap year, the function returns True. Otherwise, the function returns False. Your solution is correct if the following assert statements’ conditions are all True:"
   ]
  },
  {
   "cell_type": "code",
   "execution_count": null,
   "metadata": {},
   "outputs": [],
   "source": [
    "assert isLeapYear(1999) == False\n",
    "assert isLeapYear(2000) == True\n",
    "assert isLeapYear(2001) == False\n",
    "assert isLeapYear(2004) == True\n",
    "assert isLeapYear(2100) == False\n",
    "assert isLeapYear(2400) == True"
   ]
  },
  {
   "cell_type": "code",
   "execution_count": 116,
   "metadata": {},
   "outputs": [],
   "source": [
    "# Answer 6\n",
    "def isLeapYear (year):\n",
    "    if year % 400 == 0:\n",
    "        return True\n",
    "    elif year % 100 == 0:\n",
    "        return False\n",
    "    elif year % 4 == 0:\n",
    "        return True\n",
    "    else: \n",
    "        return False\n",
    "\n",
    "assert isLeapYear(1999) == False\n",
    "assert isLeapYear(2000) == True\n",
    "assert isLeapYear(2001) == False\n",
    "assert isLeapYear(2004) == True\n",
    "assert isLeapYear(2100) == False\n",
    "assert isLeapYear(2400) == True"
   ]
  },
  {
   "cell_type": "code",
   "execution_count": 102,
   "metadata": {},
   "outputs": [
    {
     "data": {
      "text/plain": [
       "False"
      ]
     },
     "execution_count": 102,
     "metadata": {},
     "output_type": "execute_result"
    }
   ],
   "source": [
    "isLeapYear(1999)"
   ]
  },
  {
   "cell_type": "markdown",
   "metadata": {},
   "source": [
    "# Question 7"
   ]
  },
  {
   "cell_type": "markdown",
   "metadata": {},
   "source": [
    "You can represent a date with three integers for the year, month, and day, but this doesn’t mean that any integers represent a valid date. After all, there is no 13th month of the year or 32nd day of any month. This exercise has you check if a year/month/day combination is valid, given that different months have different numbers of days. Write anisValidDate() function with parameters year, month, and day. The function should return True if the integers provided for these parameters represent a valid date. Otherwise, the function returns False. Your solution is correct if the following assert statements’ conditions are all True:"
   ]
  },
  {
   "cell_type": "code",
   "execution_count": null,
   "metadata": {},
   "outputs": [],
   "source": [
    "assert isValidDate(2001, 2, 29) == False\n",
    "assert isValidDate(2029, 13, 1) == False\n",
    "assert isValidDate(1000000, 1, 1) == True\n",
    "assert isValidDate(2015, 4, 31) == False"
   ]
  },
  {
   "cell_type": "code",
   "execution_count": 115,
   "metadata": {},
   "outputs": [],
   "source": [
    "# Answer 7\n",
    "\n",
    "def isValidDate (year, month, day):\n",
    "    if year < 1:\n",
    "        return False\n",
    "    if month <1 or month >12:\n",
    "        return False\n",
    "    if month in {1,3,5,7,8,10,12}:\n",
    "        return 1 <= day <= 31\n",
    "    elif month in {4,6,9,11}:\n",
    "        return 1 <= day <= 30\n",
    "    elif month == 2:\n",
    "        if (year % 400 == 0) or (year % 4 == 0 and year % 100 != 0):\n",
    "            return 1 <= day <= 29\n",
    "        else: \n",
    "            return 1 <= day <= 28\n",
    "    else:\n",
    "        return False \n",
    "    \n",
    "assert isValidDate(2001, 2, 29) == False\n",
    "assert isValidDate(2029, 13, 1) == False\n",
    "assert isValidDate(1000000, 1, 1) == True\n",
    "assert isValidDate(2015, 4, 31) == False"
   ]
  },
  {
   "cell_type": "code",
   "execution_count": 103,
   "metadata": {},
   "outputs": [
    {
     "data": {
      "text/plain": [
       "False"
      ]
     },
     "execution_count": 103,
     "metadata": {},
     "output_type": "execute_result"
    }
   ],
   "source": [
    "isValidDate(2001, 2, 29)"
   ]
  },
  {
   "cell_type": "markdown",
   "metadata": {},
   "source": [
    "# Question 8"
   ]
  },
  {
   "cell_type": "markdown",
   "metadata": {},
   "source": [
    "In the US and UK, the digits of numbers are grouped with commas every three digits. For example, the number 79033516 is written as 79,033,516 for readability. Write a commaFormat() function with a number parameter. The argument for this parameter can be an integer or floating-point number. Your function returns a string of this number with proper US/UK comma formatting. There is a comma after every third digit in the whole number part. There are no commas at all in the fractional part: The proper comma formatting of 1234.5678 is 1,234.5678 and not 1,234.567,8. Your solution is correct if the following assert statements’ conditions are all True:"
   ]
  },
  {
   "cell_type": "code",
   "execution_count": null,
   "metadata": {},
   "outputs": [],
   "source": [
    "assert commaFormat(1) == '1'\n",
    "assert commaFormat(10) == '10'\n",
    "assert commaFormat(100) == '100'\n",
    "assert commaFormat(1000) == '1,000'\n",
    "assert commaFormat(10000) == '10,000'\n",
    "assert commaFormat(100000) == '100,000'\n",
    "assert commaFormat(1000000) == '1,000,000'\n",
    "assert commaFormat(1234567890) == '1,234,567,890'\n",
    "assert commaFormat(1000.123456) == '1,000.123456'"
   ]
  },
  {
   "cell_type": "code",
   "execution_count": 114,
   "metadata": {},
   "outputs": [],
   "source": [
    "# Answer 8\n",
    "def commaFormat (number):\n",
    "    string_number = str(number)\n",
    "    split_number = string_number.split('.')\n",
    "\n",
    "    whole_part = split_number[0]\n",
    "    format_whole_part = ''\n",
    "    count = 0\n",
    "    for digit in whole_part[::-1]:\n",
    "        if count != 0 and count %3 == 0:\n",
    "            format_whole_part = ',' + format_whole_part\n",
    "        format_whole_part = digit + format_whole_part\n",
    "        count += 1\n",
    "    if len(split_number) == 1:\n",
    "        return format_whole_part\n",
    "    else:\n",
    "        return format_whole_part + '.' + split_number[1]\n",
    "    \n",
    "\n",
    "assert commaFormat(1) == '1'\n",
    "assert commaFormat(10) == '10'\n",
    "assert commaFormat(100) == '100'\n",
    "assert commaFormat(1000) == '1,000'\n",
    "assert commaFormat(10000) == '10,000'\n",
    "assert commaFormat(100000) == '100,000'\n",
    "assert commaFormat(1000000) == '1,000,000'\n",
    "assert commaFormat(1234567890) == '1,234,567,890'\n",
    "assert commaFormat(1000.123456) == '1,000.123456'"
   ]
  },
  {
   "cell_type": "code",
   "execution_count": 113,
   "metadata": {},
   "outputs": [
    {
     "data": {
      "text/plain": [
       "'1,000.123456'"
      ]
     },
     "execution_count": 113,
     "metadata": {},
     "output_type": "execute_result"
    }
   ],
   "source": [
    "commaFormat(1000.123456)"
   ]
  },
  {
   "cell_type": "code",
   "execution_count": null,
   "metadata": {},
   "outputs": [],
   "source": []
  }
 ],
 "metadata": {
  "kernelspec": {
   "display_name": "Python 3",
   "language": "python",
   "name": "python3"
  },
  "language_info": {
   "codemirror_mode": {
    "name": "ipython",
    "version": 3
   },
   "file_extension": ".py",
   "mimetype": "text/x-python",
   "name": "python",
   "nbconvert_exporter": "python",
   "pygments_lexer": "ipython3",
   "version": "3.11.5"
  }
 },
 "nbformat": 4,
 "nbformat_minor": 2
}
