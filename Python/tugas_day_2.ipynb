{
 "cells": [
  {
   "cell_type": "markdown",
   "metadata": {},
   "source": [
    "# Question 1\n",
    "\n",
    "Find a word in the string spam, see how many times it appears.\n",
    "\n",
    "# input: \n",
    "spam = 'ababaababbbbcccbabcc'\n",
    "word = 'bab'\n",
    "\n",
    "# output:\n",
    "'Appeard 3 times'"
   ]
  },
  {
   "cell_type": "code",
   "execution_count": 6,
   "metadata": {},
   "outputs": [
    {
     "name": "stdout",
     "output_type": "stream",
     "text": [
      "Appeard 3 times\n"
     ]
    }
   ],
   "source": [
    "# Answer 1\n",
    "\n",
    "spam = input('')\n",
    "word = input('')\n",
    "count = 0\n",
    "\n",
    "for i in range (len(spam)):\n",
    "    if spam [i:i+3] == word:\n",
    "        count+=1\n",
    "print(f'Appeard {count} times')"
   ]
  },
  {
   "cell_type": "code",
   "execution_count": 8,
   "metadata": {},
   "outputs": [
    {
     "name": "stdout",
     "output_type": "stream",
     "text": [
      "Appeard 3 times\n"
     ]
    }
   ],
   "source": [
    "# cara lain\n",
    "spam = input('')\n",
    "word = spam.count(input(''))\n",
    "print(f'Appeard {word} times')"
   ]
  },
  {
   "cell_type": "markdown",
   "metadata": {},
   "source": [
    "# Question 2\n",
    "\n",
    "Count the number of o and x in the string spam (case sensitive), if they are equal, print True, otherwise print False.\n",
    "\n",
    "# input:\n",
    "spam = 'oOxxX'\n",
    "\n",
    "# output:\n",
    "False"
   ]
  },
  {
   "cell_type": "code",
   "execution_count": 9,
   "metadata": {},
   "outputs": [
    {
     "data": {
      "text/plain": [
       "False"
      ]
     },
     "execution_count": 9,
     "metadata": {},
     "output_type": "execute_result"
    }
   ],
   "source": [
    "# Answer 2\n",
    "\n",
    "spam1 = input('')\n",
    "jumlah_o = 0\n",
    "jumlah_x = 0\n",
    "\n",
    "for z in spam1:\n",
    "    if z == 'o':\n",
    "        jumlah_o += 1\n",
    "    elif z == 'x':\n",
    "        jumlah_x += 1\n",
    "\n",
    "jumlah_x == jumlah_o"
   ]
  },
  {
   "cell_type": "markdown",
   "metadata": {},
   "source": [
    "# Question 3\n",
    "\n",
    "A narcissistic number are numbers that can be represented by some kind of mathematical manipulation of their digits. A whole number, or integer, that is the sum of the nth powers of its digits (e.g., 153 = 1**3 + 5**3 + 3**3).\n",
    "\n",
    "# input:\n",
    "spam = 153\n",
    "\n",
    "# output:\n",
    "'153 is narcissistic number'"
   ]
  },
  {
   "cell_type": "code",
   "execution_count": 10,
   "metadata": {},
   "outputs": [
    {
     "name": "stdout",
     "output_type": "stream",
     "text": [
      "153 is narcissistic number\n"
     ]
    }
   ],
   "source": [
    "# Answer 3\n",
    "\n",
    "nomor = input()\n",
    "jumlah_nomor = len(nomor)\n",
    "total = sum(int(angka)**jumlah_nomor for angka in nomor)\n",
    "string_total = str(total)\n",
    "\n",
    "if string_total == nomor:\n",
    "    print(f'{string_total} is narcissistic number')\n",
    "else:\n",
    "    print(f'{string_total} is not narcissistic number')"
   ]
  },
  {
   "cell_type": "markdown",
   "metadata": {},
   "source": [
    "# Question 4\n",
    "\n",
    "This exercise continues our use of the modulo operator to determine if numbers are divisible by 3, 5, or both 3 and 5. Divisible by n, means that it can be divided by a number n with no remainder. For example, 10 is divisible by 5, but 11 is not divisible by 5.\n",
    "\n",
    "Write a simple program with a single integer variable named `upTo`. For the numbers 1 up to and including `upTo`, the function prints one of four things:\n",
    "\n",
    "- Prints `Fizz` if the number is only divisible by 3.\n",
    "- Prints `FizzBuzz` if the number is divisible by 3 and 5.\n",
    "- Prints `Buzz` if the number is only divisible by 5.\n",
    "- Prints the number if the number is neither divisible by 3 nor 5.\n",
    "\n",
    "Instead of printing each string or number on a separate line, print them without newlines. For\n",
    "example, your solution is correct if calling `upTo = 35` produces the following output:\n",
    "\n",
    "# input\n",
    "Enter a number (greater than 0) or QUIT: 35\n",
    "\n",
    "# output\n",
    "1 2 Fizz 4 Buzz Fizz 7 8 Fizz Buzz 11 Fizz 13 14 FizzBuzz 16 17 Fizz 19 Buzz Fizz 22\n",
    "23 Fizz Buzz 26 Fizz 28 29 FizzBuzz 31 32 Fizz 34 Buzz"
   ]
  },
  {
   "cell_type": "code",
   "execution_count": 18,
   "metadata": {},
   "outputs": [
    {
     "name": "stdout",
     "output_type": "stream",
     "text": [
      " 1 2 Fizz 4 Buzz Fizz 7 8 Fizz Buzz 11 Fizz 13 14 FizzBuzz 16 17 Fizz 19 Buzz Fizz 22 23 Fizz Buzz 26 Fizz 28 29 FizzBuzz 31 32 Fizz 34 Buzz \n"
     ]
    }
   ],
   "source": [
    "# Answer 4\n",
    "nomor = int(input(\"Enter a number (greater than 0) or QUIT: \"))\n",
    "output = \" \"\n",
    "for i in range (1, nomor + 1):\n",
    "    if i % 3 == 0 and i % 5 == 0:\n",
    "        output += \"FizzBuzz \"\n",
    "    elif i % 3 == 0:\n",
    "        output += \"Fizz \"\n",
    "    elif i % 5 == 0:\n",
    "        output += \"Buzz \"\n",
    "    else: \n",
    "        output += str(i) + \" \"\n",
    "print (output)"
   ]
  },
  {
   "cell_type": "code",
   "execution_count": null,
   "metadata": {},
   "outputs": [],
   "source": []
  },
  {
   "cell_type": "markdown",
   "metadata": {},
   "source": [
    "# Question 5\n",
    "\n",
    "Find-and-replace is a standard feature in text editors, IDEs, and word processor software. Even the Python language comes with a `replace()` string method since programs often use it. In this exercise, you’ll reimplement this common string operation.\n",
    "\n",
    "Write a simple program that has three main variable: \n",
    "\n",
    "- `text` is the string with text to be replaced\n",
    "- `oldText` is the text to be replaced\n",
    "- `newText` is the replacement text.\n",
    "\n",
    "Keep in mind that this function must be case-sensitive: if you are replacing 'fox' with 'dog', then the 'Fox' in ‘The Fox and fox' won’t be replaced. Your solution is correct if produce following output:\n",
    "\n",
    "# input\n",
    "text = 'The Fox and fox.'\n",
    "oldText = 'fox' \n",
    "newText = 'dog'\n",
    "\n",
    "# output\n",
    "'The Fox and dog.'"
   ]
  },
  {
   "cell_type": "code",
   "execution_count": 12,
   "metadata": {},
   "outputs": [
    {
     "name": "stdout",
     "output_type": "stream",
     "text": [
      "The Fox and dog\n"
     ]
    }
   ],
   "source": [
    "# answer 5\n",
    "text = input('')\n",
    "oldText = input('')\n",
    "newText = input('')\n",
    "\n",
    "string_baru = ''\n",
    "index = 0\n",
    "\n",
    "while index < len(text):\n",
    "    if text[index:index+len(oldText)] == oldText:\n",
    "        string_baru += newText\n",
    "        index += len(oldText)\n",
    "    else:\n",
    "        string_baru += text[index]\n",
    "        index += 1\n",
    "print(string_baru)        "
   ]
  },
  {
   "cell_type": "markdown",
   "metadata": {},
   "source": [
    "# Question 6\n",
    "\n",
    "The Collatz sequence, also called the 3n + 1 problem, is the simplest impossible math problem (But don’t worry, the program itself is easy enough for beginners). From a starting number, *n*, follow three rules to get the next number in the sequence:\n",
    "\n",
    "- If *n* is `even`, the next number *n* is *n* / 2.\n",
    "- If *n* is `odd`, the next number *n* is *n* * 3 + 1.\n",
    "- If *n* is `1`, stop. Otherwise, repeat.\n",
    "\n",
    "It is generally thought, but so far not mathematically proven, that every starting number eventually terminates at 1. Write a simple program that prompts the user to select a starting number or quit. When user run the program, and the output will look like this:\n",
    "\n",
    "# input\n",
    "Enter a starting number (greater than 0) or QUIT: 26\n",
    "\n",
    "# output\n",
    "26, 13, 40, 20, 10, 5, 16, 8, 4, 2, 1"
   ]
  },
  {
   "cell_type": "code",
   "execution_count": 19,
   "metadata": {},
   "outputs": [
    {
     "name": "stdout",
     "output_type": "stream",
     "text": [
      "26, 13, 40, 20, 10, 5, 16, 8, 4, 2, 1\n"
     ]
    }
   ],
   "source": [
    "# Answer 6\n",
    "while True:\n",
    "    masukkan_nomor = input(\"Enter a starting number (greater than 0) or QUIT: \")\n",
    "    if masukkan_nomor.upper() == \"QUIT\":\n",
    "        break\n",
    "    is_valid = True\n",
    "    for x in masukkan_nomor:\n",
    "        if not '0' <= x <= '9':\n",
    "            is_valid = False\n",
    "            break\n",
    "    if not is_valid:\n",
    "        print(\"Please enter a valid integer or type QUIT to exit.\")\n",
    "        continue\n",
    "    n = int(masukkan_nomor)\n",
    "    if n <= 0:\n",
    "        print(\"Please enter a number greater than 0.\")\n",
    "        continue\n",
    "    sequence = [n]\n",
    "    while n!=1:\n",
    "        if n % 2 == 0:\n",
    "            n //= 2\n",
    "        else:\n",
    "            n = n * 3 + 1\n",
    "        sequence.append(n)\n",
    "    output = \"\"\n",
    "    for  num in sequence:\n",
    "        output += str (num) + \", \"\n",
    "    output = output[:-2]\n",
    "    print(output)"
   ]
  },
  {
   "cell_type": "markdown",
   "metadata": {},
   "source": [
    "# Question 7\n",
    "\n",
    "The Fibonacci sequence is a famous mathematical pattern credited to Italian mathematician Fibonacci in the 13th century (though others had discovered it even earlier). The sequence begins with 0 and 1, and the next number is always the sum of the previous two numbers. The sequence continues forever.\n",
    "\n",
    "```python\n",
    "0, 1, 1, 2, 3, 5, 8, 13, 21, 34, 55, 89, 144, 233, 377, 610, 987 . . .\n",
    "```\n",
    "\n",
    "Because Fibonacci numbers quickly become very large, check if the user has entered a number that’s 100 or larger and displays a warning that it may take some time for the output to finish displaying on the screen. The warning in our program reminds the user they can always terminate the program by pressing CTRL-C. When you run the program, the output will look like this:\n",
    "\n",
    "# input\n",
    "Enter the Nth Fibonacci number you wish to calculate or QUIT to quit: 10\n",
    "\n",
    "# output\n",
    "0, 1, 1, 2, 3, 5, 8, 13, 21, 34"
   ]
  },
  {
   "cell_type": "code",
   "execution_count": 20,
   "metadata": {},
   "outputs": [
    {
     "name": "stdout",
     "output_type": "stream",
     "text": [
      "[0, 1, 1, 2, 3, 5, 8, 13, 21, 34]\n"
     ]
    }
   ],
   "source": [
    "#Answer 7\n",
    "FS = [0,1]\n",
    "while True:\n",
    "    user_input = input(\"Enter the Fibonacci number or type QUIT to exit: \")\n",
    "    if user_input.upper() == \"QUIT\":\n",
    "        break\n",
    "\n",
    "    is_valid = True\n",
    "    for char in user_input:\n",
    "        if not '0' <= char <= '9':\n",
    "            is_valid = False\n",
    "            break\n",
    "    if not is_valid:\n",
    "        print(\"Please enter a valid integer or type QUIT to exit.\")\n",
    "        continue\n",
    "    \n",
    "    n = int(user_input)\n",
    "    if n < 0:\n",
    "        print(\"Please enter a non negative integer.\")\n",
    "        continue\n",
    "\n",
    "    if n >= 100:\n",
    "        print(\"Warning! Calculating large Fibonacci numbers may take some time to display.\")\n",
    "\n",
    "    FS = [0,1]\n",
    "    a, b = 0, 1\n",
    "    for i in range (2, n):\n",
    "        a, b = b, a+b\n",
    "        FS.append(b)\n",
    "        \n",
    "    print(FS)"
   ]
  },
  {
   "cell_type": "markdown",
   "metadata": {},
   "source": [
    "# Question 8\n",
    "\n",
    "Write a simple program that can hack messages encrypted with the Caesar cipher, even if you don’t know the key. There are only 26 possible keys for the Caesar cipher, so a computer can easily try all possible decryptions and display the results to the user. In cryptography, we call this technique a brute-force attack. When you run the program, the output will look like this:\n",
    "\n",
    "# input\n",
    "Enter the message to hack: QIIX QI FC XLI VSWI FYWLIW XSRMKLX.\n",
    "\n",
    "# output\n",
    "Key #0: QIIX QI FC XLI VSWI FYWLIW XSRMKLX.\n",
    "Key #1: PHHW PH EB WKH URVH EXVKHV WRQLJKW. \n",
    "Key #2: OGGV OG DA VJG TQUG DWUJGU VQPKIJV. \n",
    "Key #3: NFFU NF CZ UIF SPTF CVTIFT UPOJHIU. \n",
    "Key #4: MEET ME BY THE ROSE BUSHES TONIGHT. \n",
    "Key #5: LDDS LD AX SGD QNRD ATRGDR SNMHFGS. \n",
    "Key #6: KCCR KC ZW RFC PMQC ZSQFCQ RMLGEFR. "
   ]
  },
  {
   "cell_type": "code",
   "execution_count": 17,
   "metadata": {},
   "outputs": [
    {
     "name": "stdout",
     "output_type": "stream",
     "text": [
      "Key #0:  QIIX QI FC XLI VSWI FYWLIW XSRMKLX\n",
      "Key #1:  PHHW PH EB WKH URVH EXVKHV WRQLJKW\n",
      "Key #2:  OGGV OG DA VJG TQUG DWUJGU VQPKIJV\n",
      "Key #3:  NFFU NF CZ UIF SPTF CVTIFT UPOJHIU\n",
      "Key #4:  MEET ME BY THE ROSE BUSHES TONIGHT\n",
      "Key #5:  LDDS LD AX SGD QNRD ATRGDR SNMHFGS\n",
      "Key #6:  KCCR KC ZW RFC PMQC ZSQFCQ RMLGEFR\n",
      "Key #7:  JBBQ JB YV QEB OLPB YRPEBP QLKFDEQ\n",
      "Key #8:  IAAP IA XU PDA NKOA XQODAO PKJECDP\n",
      "Key #9:  HZZO HZ WT OCZ MJNZ WPNCZN OJIDBCO\n",
      "Key #10:  GYYN GY VS NBY LIMY VOMBYM NIHCABN\n",
      "Key #11:  FXXM FX UR MAX KHLX UNLAXL MHGBZAM\n",
      "Key #12:  EWWL EW TQ LZW JGKW TMKZWK LGFAYZL\n",
      "Key #13:  DVVK DV SP KYV IFJV SLJYVJ KFEZXYK\n",
      "Key #14:  CUUJ CU RO JXU HEIU RKIXUI JEDYWXJ\n",
      "Key #15:  BTTI BT QN IWT GDHT QJHWTH IDCXVWI\n",
      "Key #16:  ASSH AS PM HVS FCGS PIGVSG HCBWUVH\n",
      "Key #17:  ZRRG ZR OL GUR EBFR OHFURF GBAVTUG\n",
      "Key #18:  YQQF YQ NK FTQ DAEQ NGETQE FAZUSTF\n",
      "Key #19:  XPPE XP MJ ESP CZDP MFDSPD EZYTRSE\n",
      "Key #20:  WOOD WO LI DRO BYCO LECROC DYXSQRD\n",
      "Key #21:  VNNC VN KH CQN AXBN KDBQNB CXWRPQC\n",
      "Key #22:  UMMB UM JG BPM ZWAM JCAPMA BWVQOPB\n",
      "Key #23:  TLLA TL IF AOL YVZL IBZOLZ AVUPNOA\n",
      "Key #24:  SKKZ SK HE ZNK XUYK HAYNKY ZUTOMNZ\n",
      "Key #25:  RJJY RJ GD YMJ WTXJ GZXMJX YTSNLMY\n"
     ]
    }
   ],
   "source": [
    "#Answer 8\n",
    "encrypted_message = input(\"Enter the message to hack: \")\n",
    "\n",
    "alphabet_lower = 'abcdefghijklmnopqrstuvwxyz'\n",
    "alphabet_upper = 'ABCDEFGHIJKLMNOPQRSTUVWXYZ'\n",
    "\n",
    "for key in range (26):\n",
    "    decrypted_message = ' '\n",
    "    for char in encrypted_message:\n",
    "        if 'a' <= char <= 'z':\n",
    "            index = (alphabet_lower.index(char) - key) % 26\n",
    "            decrypted_message += alphabet_lower[index]\n",
    "        elif 'A' <= char <= 'Z':\n",
    "            index = (alphabet_upper.index(char) - key) % 26\n",
    "            decrypted_message += alphabet_upper[index]\n",
    "        else:\n",
    "            decrypted_message += char\n",
    "    print (f\"Key #{key}: {decrypted_message}\")"
   ]
  },
  {
   "cell_type": "code",
   "execution_count": null,
   "metadata": {},
   "outputs": [],
   "source": []
  }
 ],
 "metadata": {
  "kernelspec": {
   "display_name": "Python 3",
   "language": "python",
   "name": "python3"
  },
  "language_info": {
   "codemirror_mode": {
    "name": "ipython",
    "version": 3
   },
   "file_extension": ".py",
   "mimetype": "text/x-python",
   "name": "python",
   "nbconvert_exporter": "python",
   "pygments_lexer": "ipython3",
   "version": "3.11.5"
  }
 },
 "nbformat": 4,
 "nbformat_minor": 2
}
