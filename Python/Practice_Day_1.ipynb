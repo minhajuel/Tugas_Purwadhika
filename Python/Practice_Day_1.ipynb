{
 "cells": [
  {
   "cell_type": "markdown",
   "metadata": {},
   "source": [
    "## Soal PPT"
   ]
  },
  {
   "cell_type": "code",
   "execution_count": null,
   "metadata": {},
   "outputs": [],
   "source": [
    "# Q1\n",
    "\n",
    "x, y, z = 4, 3, 2\n",
    "\n",
    "w = ((x + y * z)/(x * y)) ** z\n",
    "print(round(w, 3))"
   ]
  },
  {
   "cell_type": "code",
   "execution_count": null,
   "metadata": {},
   "outputs": [],
   "source": [
    "# Q2\n",
    "\n",
    "num = int(input(\"Silahkan masukkan angka berapapun : \"))\n",
    "print('Kuadrat dari {} = {}'.format(num, num**2))"
   ]
  },
  {
   "cell_type": "code",
   "execution_count": null,
   "metadata": {},
   "outputs": [],
   "source": [
    "# Q3\n",
    "\n",
    "num = 365\n",
    "\n",
    "year = num//360\n",
    "month = (num % 360) // 30\n",
    "week = (num % 360 % 30) // 7\n",
    "day = num % 360 % 30 % 7\n",
    "\n",
    "print(f'{num} hari = {year} tahun, {month} bulan, {week} pekan, {day} hari')"
   ]
  },
  {
   "cell_type": "code",
   "execution_count": null,
   "metadata": {},
   "outputs": [],
   "source": [
    "# Q4\n",
    "\n",
    "andi = 2/7 * 49\n",
    "budi = 5/7 * 49\n",
    "\n",
    "print(f'Dua tahun lagi umur Andi {int(andi+2)} tahun, Budi {int(budi+2)} tahun')"
   ]
  },
  {
   "cell_type": "code",
   "execution_count": null,
   "metadata": {},
   "outputs": [],
   "source": [
    "# Q5\n",
    "\n",
    "import math\n",
    "\n",
    "jarak = 120\n",
    "mobilA = 60\n",
    "mobilB = 40\n",
    "time_start = 9\n",
    "\n",
    "time = jarak / (mobilA + mobilB)\n",
    "hour = math.floor(time)\n",
    "\n",
    "print(f'Mereka bertemu pada jam {time_start + hour} WIB') "
   ]
  },
  {
   "cell_type": "markdown",
   "metadata": {},
   "source": [
    "## Soal Notion"
   ]
  },
  {
   "cell_type": "code",
   "execution_count": null,
   "metadata": {},
   "outputs": [],
   "source": [
    "# Q1\n",
    "\n",
    "name = input('Masukkan nama anda: ').split()\n",
    "print(f'Output: {len(name[0])}')"
   ]
  },
  {
   "cell_type": "code",
   "execution_count": null,
   "metadata": {},
   "outputs": [],
   "source": [
    "# Q2\n",
    "\n",
    "name = input('Masukkan nama anda: ').upper()\n",
    "print(f'Output: {name[1::2]}')"
   ]
  },
  {
   "cell_type": "code",
   "execution_count": null,
   "metadata": {},
   "outputs": [],
   "source": [
    "# Q3\n",
    "\n",
    "num = input('Masukkan angka anda: ')\n",
    "\n",
    "ribuan = int(num[0])\n",
    "ratusan = int(num[1])\n",
    "puluhan = int(num[2])\n",
    "satuan = int(num[3])\n",
    "\n",
    "total = ribuan + ratusan + puluhan + satuan\n",
    "reverse = num[::-1]\n",
    "\n",
    "print(f'total: {total}, reverse: {reverse}')"
   ]
  },
  {
   "cell_type": "code",
   "execution_count": null,
   "metadata": {},
   "outputs": [],
   "source": [
    "# Q4\n",
    "import math\n",
    "\n",
    "x1, y1 = input('Masukkan angka anda: ').split(',')\n",
    "x2, y2 = input('Masukkan angka anda: ').split(',')\n",
    "\n",
    "deltaY = float(y2) - float(y1)\n",
    "deltaX = float(x2) - float(x1)\n",
    "\n",
    "slope = deltaY/deltaX\n",
    "distance = round(math.sqrt(deltaX**2 + deltaY**2), 3)\n",
    "\n",
    "print(f\"slope: {slope}, distance: {distance}\")"
   ]
  },
  {
   "cell_type": "code",
   "execution_count": null,
   "metadata": {},
   "outputs": [],
   "source": [
    "# Q5\n",
    "\n",
    "text1, text2 = input('Masukkan teks anda: ').split(',')\n",
    "text1, text2 = text1.strip(), text2.strip()\n",
    "\n",
    "output = f'{text2[:3]}{text1[3:]} {text1[:3]}{text2[3:]}'\n",
    "print(f'Output: {output}')"
   ]
  },
  {
   "cell_type": "code",
   "execution_count": null,
   "metadata": {},
   "outputs": [],
   "source": [
    "# Q6\n",
    "\n",
    "text1 = input('Masukkan teks anda: ')\n",
    "text2 = input('Masukkan teks anda: ')\n",
    "\n",
    "mid = len(text1)//2\n",
    "output = f'{text1[0]}{text2[0]}{text1[mid]}{text2[mid]}{text1[-1]}{text2[-1]}'\n",
    "print(f'Output: {output}')"
   ]
  },
  {
   "cell_type": "code",
   "execution_count": null,
   "metadata": {},
   "outputs": [],
   "source": [
    "# Q7\n",
    "\n",
    "text1 = input('Masukkan teks anda: ')\n",
    "text2 = input('Masukkan teks anda: ')\n",
    "\n",
    "mid = len(text1)//2\n",
    "output = f'{text1[:mid]}{text2}{text1[mid:]}'\n",
    "print(f'Output: {output}')"
   ]
  }
 ],
 "metadata": {
  "kernelspec": {
   "display_name": "Python 3",
   "language": "python",
   "name": "python3"
  },
  "language_info": {
   "codemirror_mode": {
    "name": "ipython",
    "version": 3
   },
   "file_extension": ".py",
   "mimetype": "text/x-python",
   "name": "python",
   "nbconvert_exporter": "python",
   "pygments_lexer": "ipython3",
   "version": "3.9.16"
  }
 },
 "nbformat": 4,
 "nbformat_minor": 2
}
